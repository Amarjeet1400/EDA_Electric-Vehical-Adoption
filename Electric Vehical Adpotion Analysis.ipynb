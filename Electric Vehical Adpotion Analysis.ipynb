{
 "cells": [
  {
   "cell_type": "code",
   "execution_count": null,
   "id": "c274a948-f38d-46e2-8722-8b36f3fdce81",
   "metadata": {},
   "outputs": [],
   "source": [
    "import pandas as pd\n",
    "\n",
    "import seaborn as sns\n",
    "import matplotlib.pyplot as plt\n",
    "import plotly.express as px \n"
   ]
  },
  {
   "cell_type": "markdown",
   "id": "0ba129c8-6367-4cd8-bbc7-23cda525723c",
   "metadata": {},
   "source": [
    "## Data Loading"
   ]
  },
  {
   "cell_type": "code",
   "execution_count": null,
   "id": "e70fcbca-ed1b-4874-8aa9-d793a3032b9d",
   "metadata": {},
   "outputs": [],
   "source": [
    "ev_data = pd.read_csv(r\"C:\\Users\\amarj\\OneDrive\\Desktop\\end-to-end-data-analyst-project\\Electric_trend_data_analysis\\Electric_Vehicle_Population_Data.csv\")"
   ]
  },
  {
   "cell_type": "code",
   "execution_count": null,
   "id": "19fdefc8-a6a5-4049-bdd1-8c9694116778",
   "metadata": {},
   "outputs": [],
   "source": [
    "ev_data()"
   ]
  },
  {
   "cell_type": "markdown",
   "id": "c262ceca-a956-4793-a39a-8537402f4f43",
   "metadata": {},
   "source": [
    "## EDA : Exploratory Data Analysis"
   ]
  },
  {
   "cell_type": "code",
   "execution_count": null,
   "id": "b9640209-15b8-4917-a7d8-a16550cd1c76",
   "metadata": {},
   "outputs": [],
   "source": [
    "ev_data.info()"
   ]
  },
  {
   "cell_type": "markdown",
   "id": "389f61b0-42a1-4f84-9ea5-dba7ed4fe177",
   "metadata": {},
   "source": [
    "### Data Overview: \n",
    "- The dataset contains information about the population of electric vehicles.\n",
    "\n",
    "### Here the dataset includes following columns:\n",
    "\n",
    "1. VIN_(1-10): Partial VIN number (a set of 17 characters that are unique to the vehicle, like a vehicle's unique identity code)\n",
    "2. County: County name\n",
    "3. City: City name\n",
    "4. State: State abbreviation\n",
    "5. Postal_Code: Postal code\n",
    "6. Model_Year: Year of the vehicle model\n",
    "7. Make: Manufacturer of the vehicle\n",
    "8. Model: Vehicle model\n",
    "9. Clean_Alternative_Fuel_Vehicle _(CAFV)_Eligibility: Eligibility status for clean alternative fuel vehicle\n",
    "10. Electric_Range: Electric range of the vehicle\n",
    "11. Base_MSRP: Base manufacturer's suggested retail price\n",
    "12. Legislative_District: Legislative district number\n",
    "13. DOL_Vehicle_ID: Department of Licensing vehicle ID\n",
    "14. Vehicl_ Location: Location coordinates\n",
    "15. Electric_Utility: Electric utility provider\n",
    "16. 2020_Census_Tract: Census tract for the year 2020\n",
    "17. Electric_Vehicle _Type: Type of electric vehicle (e.g., PHEV, BEV)"
   ]
  },
  {
   "cell_type": "markdown",
   "id": "93888ebc-db45-4549-b516-9732133c7706",
   "metadata": {},
   "source": [
    "## Data Cleaning"
   ]
  },
  {
   "cell_type": "code",
   "execution_count": null,
   "id": "49d80b94-8b9a-4dac-8409-1da207ebf93c",
   "metadata": {},
   "outputs": [],
   "source": [
    "ev_data[['VIN (1-10)']].nunique()"
   ]
  },
  {
   "cell_type": "code",
   "execution_count": null,
   "id": "9c6a50a7-5c49-4d91-b2ba-538e1f636580",
   "metadata": {},
   "outputs": [],
   "source": [
    "ev_data[['VIN (1-10)']].value_counts()"
   ]
  },
  {
   "cell_type": "code",
   "execution_count": null,
   "id": "6e79ee77-5389-4958-821a-6fbe6390eac8",
   "metadata": {},
   "outputs": [],
   "source": [
    "ev_data.shape"
   ]
  },
  {
   "cell_type": "code",
   "execution_count": null,
   "id": "727ff419-68cb-464b-bf1e-c3f1d7b8c6c8",
   "metadata": {},
   "outputs": [],
   "source": [
    "ev_data[ev_data.duplicated()].value_counts()\n",
    "# there is zero repetation of data across all the row "
   ]
  },
  {
   "cell_type": "code",
   "execution_count": null,
   "id": "ba3353bb-6e7e-458a-8809-d38dd9979de2",
   "metadata": {},
   "outputs": [],
   "source": [
    "ev_data.isnull().sum()"
   ]
  },
  {
   "cell_type": "code",
   "execution_count": null,
   "id": "d2344142-181c-416c-b4c7-b4911eb1e7b4",
   "metadata": {},
   "outputs": [],
   "source": [
    "ev_data.dropna(inplace = True)"
   ]
  },
  {
   "cell_type": "code",
   "execution_count": null,
   "id": "b742aba6-0ef0-4018-8e2f-066f26fe0586",
   "metadata": {},
   "outputs": [],
   "source": [
    "ev_data.groupby(by = ['VIN (1-10)' , 'County']).count()"
   ]
  },
  {
   "cell_type": "code",
   "execution_count": null,
   "id": "28e60be2-e1c0-48a6-8e04-73036cad029c",
   "metadata": {},
   "outputs": [],
   "source": [
    "ev_data.info()"
   ]
  },
  {
   "cell_type": "markdown",
   "id": "e006a85c-aa13-4a59-99bd-218a0880d13e",
   "metadata": {},
   "source": [
    "## Data Visualization"
   ]
  },
  {
   "cell_type": "code",
   "execution_count": null,
   "id": "8bd3221f-2038-4739-88c4-1baf58827a65",
   "metadata": {},
   "outputs": [],
   "source": [
    "# Distribution of Model Year\n",
    "\n",
    "plt.figure(figsize = (6, 6))\n",
    "plt.title(\"Distribution By Modal Year\")\n",
    "sns.histplot(ev_data['Model Year'] ,bins = 20 , kde = True )\n",
    "plt.xlabel('Modal Year')\n",
    "plt.ylabel(\"EV's Frequency\")\n",
    "plt.show()\n"
   ]
  },
  {
   "cell_type": "code",
   "execution_count": null,
   "id": "d8178bc8-5581-40cb-8384-1ce50f2c58cb",
   "metadata": {},
   "outputs": [],
   "source": [
    "# Distribution of Electric Range of Vehical \n",
    "plt.figure(figsize = (6, 6))\n",
    "plt.title(\"Distribution of Electric Vehical by range\")\n",
    "sns.histplot(ev_data['Electric Range'] , bins = 20 , kde = True )\n",
    "plt.xlabel(\"Electric Range \")\n",
    "plt.ylabel(\"Frequency\")\n",
    "plt.show()"
   ]
  },
  {
   "cell_type": "code",
   "execution_count": null,
   "id": "e0d121c8-68b4-4321-8fab-405401f85ec3",
   "metadata": {},
   "outputs": [],
   "source": [
    "# Count of clean Alternative Fueal Vehical (CAFV) Eligibility\n",
    "plt.figure(figsize = (6, 6))\n",
    "plt.title(\"Clean Alternative Fuel Vehicle (CAFV) Eligibility\")\n",
    "sns.countplot(y = ev_data['Clean Alternative Fuel Vehicle (CAFV) Eligibility'], palette=['#FF6347', '#4682B4', '#32CD32'])\n",
    "plt.ylabel('CAFV Eligibility')\n",
    "plt.show()"
   ]
  },
  {
   "cell_type": "code",
   "execution_count": null,
   "id": "fa124c80-6811-4b94-9dc6-f049ec1948ba",
   "metadata": {},
   "outputs": [],
   "source": [
    "# Count of electric Vehical type\n",
    "plt.figure(figsize =(6, 6))\n",
    "plt.title(\"Count of electric Vehical type\")\n",
    "sns.countplot(data = ev_data , y = 'Electric Vehicle Type' , palette=['#FF6347', '#4682B4'])\n",
    "plt.show()"
   ]
  },
  {
   "cell_type": "code",
   "execution_count": null,
   "id": "a41de87f-2dcb-4d74-97b9-a53c1f63894f",
   "metadata": {},
   "outputs": [],
   "source": [
    "import plotly.express as px \n",
    "\n",
    "# Grouping Country and Counting Number of Electric Vehical Entries \n",
    "country_counts = ev_data.groupby('County' ).count().sort_values(by = 'City' , ascending = False )['City']\n",
    "\n",
    "# Extract the top 10 counties and their counts\n",
    "top_ten_country = country_counts.index[: 10]\n",
    "top_ten_values = country_counts.values[:10]\n",
    "\n",
    "top_ten_values = country_counts.values[:10]\n",
    "fig = px.bar(x = top_ten_country , y = top_ten_values , labels = {'x': 'County Name', 'y': 'Number of Elecrtic Vehicals'} ,color = top_ten_values ,   title='Top 10 Counties with Most Electric Vehicles ' )\n",
    "fig.show()\n"
   ]
  },
  {
   "cell_type": "code",
   "execution_count": null,
   "id": "44b43595-c7e4-42d4-ac49-17b7f77bff5f",
   "metadata": {},
   "outputs": [],
   "source": [
    "# Grouping Make and Counting Number of Electric Vehical Entries \n",
    "country_counts = ev_data.groupby('Make' ).count().sort_values(by = 'City' , ascending = False )['City']\n",
    "\n",
    "# Extract the top 10 counties and their counts\n",
    "top_ten_company = country_counts.index[: 10]\n",
    "top_ten_values = country_counts.values[:10]\n",
    "\n",
    "fig = px.bar(x = top_ten_company , y = top_ten_values , labels = {'x': 'Company Name', 'y': 'Number of Electric Vehicals'} ,color = top_ten_values,   title='Top 10 Company with Most Electric Vehicles ' )\n",
    "fig.show()"
   ]
  },
  {
   "cell_type": "code",
   "execution_count": null,
   "id": "19fad7de-03e5-47eb-983f-f623c53e8a01",
   "metadata": {},
   "outputs": [],
   "source": [
    "car_count_city = ev_data['City'].value_counts().nlargest(10).reset_index()\n",
    "car_count_city\n",
    "fig_carper_city = px.bar(x = car_count_city['City'] , y = car_count_city.iloc[ :,1] , labels = {'x':'City Name' , 'y':'Number of Car'}  , color = car_count_city.iloc[ :,1], title = \"Top 10 city by Electrical Vehicals\")"
   ]
  },
  {
   "cell_type": "code",
   "execution_count": null,
   "id": "a511ab99-05c4-4119-86f6-6f63f7c78ce5",
   "metadata": {},
   "outputs": [],
   "source": [
    "\n",
    "fig_carper_city"
   ]
  },
  {
   "cell_type": "code",
   "execution_count": null,
   "id": "685cc842-ad3b-4425-b30e-1216393d095b",
   "metadata": {},
   "outputs": [],
   "source": [
    "car_count_city"
   ]
  },
  {
   "cell_type": "code",
   "execution_count": null,
   "id": "257b59fd-7994-4165-a1d8-16137e33281b",
   "metadata": {},
   "outputs": [],
   "source": [
    "# Percentage of BEV vs PHEV by Country\n",
    "\n",
    "vehical_type = ev_data['Electric Vehicle Type'].value_counts(normalize = True).reset_index()\n",
    "vehical_type\n",
    "px.pie(data_frame = vehical_type , names = 'Electric Vehicle Type' , values = 'proportion' , color = 'proportion' , title = \"Percentage of BEV vs PHEV by Country\" )"
   ]
  },
  {
   "cell_type": "code",
   "execution_count": null,
   "id": "71f4665b-2136-4f45-8609-2313b62dc895",
   "metadata": {},
   "outputs": [],
   "source": [
    "# Top five largest smallest Electric Vehicals Company by Electric range\n",
    "def top_car_modal_byrange():\n",
    "    range_order = ev_data.sort_values(by = 'Electric Range' , ascending = False).reset_index(drop = True)\n",
    "    range_order = range_order[['Make' , 'Model' , 'Electric Range']]\n",
    "     \n",
    "    top_5 = range_order.drop_duplicates().reset_index(drop = True).head()\n",
    "    print(\"TOP 10 ELECTRIC CAR COMPANY BY ELECTRIC RANGE : \\n \")\n",
    "    print(top_5)\n",
    "    \n",
    "top_car_modal_byrange()"
   ]
  },
  {
   "cell_type": "code",
   "execution_count": null,
   "id": "7eefab89-fe5b-4e37-9620-b0c836f526f3",
   "metadata": {},
   "outputs": [],
   "source": [
    "def bottom_car_modal_byrange():\n",
    "   range_order = ev_data.sort_values(by = 'Electric Range' , ascending = False).reset_index(drop = True)\n",
    "   range_order = range_order[['Make' , 'Model' , 'Electric Range']]\n",
    "     \n",
    "   bottom_5 = range_order.drop_duplicates().reset_index(drop = True).tail()\n",
    "   print(\"Bottom 10 ELECTRIC CAR COMPANY BY ELECTRIC RANGE : \\n \")  \n",
    "   print(bottom_5)\n",
    "bottom_car_modal_byrange() "
   ]
  },
  {
   "cell_type": "code",
   "execution_count": null,
   "id": "9549fb82-8269-48b5-9bb7-13b45a6d4243",
   "metadata": {},
   "outputs": [],
   "source": []
  },
  {
   "cell_type": "code",
   "execution_count": null,
   "id": "9bada821-595e-4bef-a478-7afee2f781c0",
   "metadata": {},
   "outputs": [],
   "source": [
    "# Which year Electric Cars Increase \n",
    "sns.histplot(data = ev_data , x = ev_data['Model Year'], bins = 20)"
   ]
  },
  {
   "cell_type": "code",
   "execution_count": null,
   "id": "d82d1748-c21a-4096-ab18-1ca0e34634a5",
   "metadata": {},
   "outputs": [],
   "source": [
    "# Year wise Electric Car Sell\n",
    "cars_num_year_wise = ev_data.groupby('Model Year')['VIN (1-10)'].count().reset_index()\n",
    "px.line(cars_num_year_wise , x = 'Model Year' , y = 'VIN (1-10)' , markers = True , labels ={'y':'Nums_Cars'} , title = 'Year Wise Electric Car Purchase ')"
   ]
  },
  {
   "cell_type": "markdown",
   "id": "c3b663e1-a2b2-42f4-8df6-ad1504a8c7eb",
   "metadata": {},
   "source": [
    "Taking a step further in data cleaning or data modeling i am going to drop some fiels(columns) which in my observation are not serving any purpose towards ability to give  a menigful insights\n",
    "\n",
    "#### Here. \n",
    "1. VIN (1-10): It is a unique identifier for each vehicle but does not contribute to understanding trends or making predictions.\n",
    "\n",
    "2. DOL Vehicle ID: This is another unique identifier with high cardinality and likely does not add value to the analysis. A unique identification number for each vehicle present in Transactions dataset. Transactions done on the same vehicle will have the same DOL Vehicle ID.\n",
    "\n",
    "3. Vehicl Location: Removing this column simplifies the dataset and focuses the analysis on more relevant features. and other columns like \"County\" and \"City\" provide sufficient geographical context for non-geospatial analysis.\n",
    "\n",
    "4. Legislative District : Similar information is captured by \"County\" and \"City\" Dropping it can reduces the complexicity of the dataset and simplifies the analysis.\n",
    "\n",
    "5. Electric Utility : Here migt be high variability and inconsistency. Hence dropping it can simplify the dataset.\n",
    "\n",
    "6. 2020 Census Tract : The census tract data might not add significant value. Hence, removing this column simplifies the dataset.\n",
    "\n",
    "7. Base MSRP : The MSRP may vary significantly by market and does not necessarily reflect the actual purchase price or incentives, potentially complicating the analysis without adding clear value.\n",
    "\n",
    "\n",
    "#### So, i will drop these three columns which are 'VIN_(1-10)', 'DOL_Vehicle_ID', 'Vehicl_Location', 'Legislative_District' , 'Electric_Utility',  '2020_Census_Tract' and 'Base_MSRP'."
   ]
  },
  {
   "cell_type": "code",
   "execution_count": null,
   "id": "0e0e2e9e-c992-4c27-ac00-6d29798a6951",
   "metadata": {},
   "outputs": [],
   "source": [
    "ev_data.columns"
   ]
  },
  {
   "cell_type": "code",
   "execution_count": null,
   "id": "2b6c1a56-d350-4e64-b51e-a471733e6e94",
   "metadata": {},
   "outputs": [],
   "source": [
    "df1 = ev_data.copy()"
   ]
  },
  {
   "cell_type": "code",
   "execution_count": null,
   "id": "1a976428-a019-4ce4-9032-b0daa21a44c3",
   "metadata": {},
   "outputs": [],
   "source": [
    "ev_data.drop(['VIN (1-10)','Postal Code','Base MSRP','Legislative District','DOL Vehicle ID','Electric Utility','2020 Census Tract'],axis=1,inplace=True)"
   ]
  },
  {
   "cell_type": "code",
   "execution_count": null,
   "id": "e43cb829-4232-4b73-9f7e-7ce24dde65ca",
   "metadata": {},
   "outputs": [],
   "source": [
    "ev_data.shape"
   ]
  },
  {
   "cell_type": "code",
   "execution_count": null,
   "id": "d6d7837b-7b74-4455-a6d4-85df9bfcb217",
   "metadata": {},
   "outputs": [],
   "source": [
    "ev_data.info()"
   ]
  },
  {
   "cell_type": "code",
   "execution_count": null,
   "id": "932179a6-3832-4554-b2d7-a22a6071eba1",
   "metadata": {},
   "outputs": [],
   "source": [
    "df = ev_data"
   ]
  },
  {
   "cell_type": "code",
   "execution_count": null,
   "id": "8456fb17-b99f-4be4-8625-61cc73d7edd2",
   "metadata": {},
   "outputs": [],
   "source": [
    "df.shape"
   ]
  },
  {
   "cell_type": "markdown",
   "id": "ce538d8f-429a-4e4b-96e7-3dad7bff71b0",
   "metadata": {},
   "source": [
    "#### Conclusion : \n",
    "So, this dataset is all about Electric Vehicle Population Got from the \"us.gov\" website. <br>\n",
    "It was very challanging to convert the dataset and was challanging for data Cleaning. <br>\n",
    "But With the help of EDA it was easy to get insights from this dataset.\n",
    "<br>\n",
    "#### Observations:\n",
    "- We observe Some Observations.\n",
    "1. Distribution of Electric Cars over  Model Year.\n",
    "2. Distribution of Electric Range Of the Vehicle.\n",
    "3. Count of Clean Alternative Fuel Vehicle (CAFV) Eligibility.\n",
    "4. Count of Electric Vehicle Type.\n",
    "5. Percentage of BEV vs PHEV by Country.\n",
    "6. Year wise number of cars.\n",
    "<br>\n",
    "- As well as we have answered some questions to generate insights from the dataset.\n",
    "1. What is the Year Wise Cars sales growth?\n",
    "2. What are the Top 10 count of cars per Country?\n",
    "3. What is the Top 10 count of cars per city?\n",
    "4. What is the Top 10 count of cars per county?\n",
    "4. What are the Top 5 vs Bottom 5 Comparison?\n",
    "5. In which Year Electric Vehicles increased?\n",
    "6. what are the Top 10 Companies making Electric Vehicle?\n",
    "<br>\n",
    "<br>\n",
    "#### Conclusion:\n",
    "- All the top 5 electric vehicles produced by Tesla company\n",
    "- Electric Cars sell shootup by 400 % in between year 2020 - 2023\n",
    "- Washington had the most cars registered by state, followed by California and Virginia.\n",
    "- Seattle is the top city followed by Bellevue in top 10 with electric Cars.\n",
    "- King County is the top in top 10 county with more electric Vehicles followed by Snohomish and Pierce.\n",
    "- Tesla is the top 10 company making Maximum Electric Vehicles followed by Nissan, Chevrolet and Ford.\n",
    "- Among all the Electric vehicle sold till 2024 : 21.8 % are Battery Electric Vehicle (BEV) , 78.2 % are plug-in Hybrid Electric Vehicle (PHEV) \n",
    "- 98052 postal code contains the high electric cars.\n",
    "- JAGUR have the more electric range comapre to other makes.\n",
    "- From 2008 to 2022 the no of electric vehicles are increased.\n",
    "- Tesla is the most popular electric car make in Washington state, followed by Nissan and Chevrolet.\n",
    "- Tesla is also the most popular make in Seattle, followed by Nissan, Chevrolet, and BMW.\n",
    "- Tesala, Nissan, Ford, BMW are top 5 Cars where, Think, Bently Model are bottom 5 Cars.\n"
   ]
  },
  {
   "cell_type": "code",
   "execution_count": null,
   "id": "46a44185-3b7c-4377-88ad-8c3f6e8938de",
   "metadata": {},
   "outputs": [],
   "source": []
  },
  {
   "cell_type": "code",
   "execution_count": null,
   "id": "906da348-119b-4240-9a94-b3735b5d3ade",
   "metadata": {},
   "outputs": [],
   "source": []
  }
 ],
 "metadata": {
  "kernelspec": {
   "display_name": "Python 3 (ipykernel)",
   "language": "python",
   "name": "python3"
  },
  "language_info": {
   "codemirror_mode": {
    "name": "ipython",
    "version": 3
   },
   "file_extension": ".py",
   "mimetype": "text/x-python",
   "name": "python",
   "nbconvert_exporter": "python",
   "pygments_lexer": "ipython3",
   "version": "3.12.1"
  }
 },
 "nbformat": 4,
 "nbformat_minor": 5
}
